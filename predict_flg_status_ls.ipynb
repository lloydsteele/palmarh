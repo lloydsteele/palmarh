{
 "cells": [
  {
   "cell_type": "code",
   "execution_count": 1,
   "id": "2679e137",
   "metadata": {},
   "outputs": [
    {
     "name": "stdout",
     "output_type": "stream",
     "text": [
      "skimage: 0.20.0\n",
      "sklearn: 1.2.2\n"
     ]
    }
   ],
   "source": [
    "import skimage\n",
    "print('skimage:', skimage.__version__)\n",
    "\n",
    "import sklearn\n",
    "print('sklearn:', sklearn.__version__)"
   ]
  },
  {
   "cell_type": "code",
   "execution_count": 64,
   "id": "7550f8a8",
   "metadata": {},
   "outputs": [],
   "source": [
    "from skimage import io\n",
    "from skimage.morphology import erosion, dilation\n",
    "from skimage.feature import graycomatrix, graycoprops\n",
    "\n",
    "import pandas as pd\n",
    "\n",
    "\n",
    "\n",
    "import matplotlib\n",
    "from matplotlib import pyplot as plt\n",
    "import seaborn as sns\n",
    "import numpy as np\n",
    "\n",
    "import sys\n",
    "import os\n",
    "import glob\n",
    "import math\n",
    "\n",
    "\n",
    "from scipy.stats import mannwhitneyu, f_oneway\n",
    "from statsmodels.stats.multicomp import pairwise_tukeyhsd\n",
    "from sklearn.metrics import recall_score, make_scorer, confusion_matrix\n",
    "from sklearn.svm import LinearSVC\n",
    "from sklearn.model_selection import train_test_split, cross_val_score, KFold, StratifiedKFold\n",
    "from sklearn.linear_model import LogisticRegression\n",
    " "
   ]
  },
  {
   "cell_type": "markdown",
   "id": "45f78a5c",
   "metadata": {},
   "source": [
    "\n",
    "# PREDICTING FLG ANALYSIS\n",
    "\n",
    "### 1 Age_and_thenar\n",
    "### 2 Age_and_palmar\n",
    "### 3 Expanded variables\n"
   ]
  },
  {
   "cell_type": "code",
   "execution_count": 65,
   "id": "26a89a56",
   "metadata": {},
   "outputs": [],
   "source": [
    "\"\"\"\n",
    "SCORING\n",
    "\"\"\"\n",
    "\n",
    "\n",
    "specificity = make_scorer(recall_score, pos_label=0) \n",
    "sensitivity = make_scorer(recall_score, pos_label=1)\n",
    "\n",
    "make_scorer(recall_score, pos_label=0) \n",
    "make_scorer(recall_score, pos_label=1)\n",
    "\n",
    "scoring = ['accuracy', 'roc_auc', 'recall', sensitivity, specificity]\n",
    "\n",
    "\n",
    "sorted(sklearn.metrics.SCORERS.keys())\n",
    "\n",
    "def model_test_cv(kfoldsplits):\n",
    "    results = []\n",
    "    for x in scoring:\n",
    "        for name, model in models:\n",
    "            kfold = KFold(n_splits=kfoldsplits) #random_state=seed)\n",
    "            cv_results = cross_val_score(model, trainDataGlobal, trainLabelsGlobal, cv=kfold, scoring=x)\n",
    "            results.append(cv_results)\n",
    "            names.append(name)\n",
    "            print(f\"{name}: {x} mean is {cv_results.mean()*100:.1f}% with SD {cv_results.std()*100.0:.1f}\")\n",
    "\n",
    "\n",
    "    "
   ]
  },
  {
   "cell_type": "code",
   "execution_count": 72,
   "id": "cc258b5d",
   "metadata": {},
   "outputs": [],
   "source": [
    "### Load metadata\n",
    "mcv4 = pd.read_excel(\"merged_scores_2023_updated.xlsx\")\n",
    "\n"
   ]
  },
  {
   "cell_type": "code",
   "execution_count": 66,
   "id": "c6fffc88",
   "metadata": {},
   "outputs": [],
   "source": [
    "thenar_scores = list(mcv4['thenar_scores'])\n",
    "palmar_scores = list(mcv4['palmar_scores'])\n",
    "age = list(mcv4['age'])\n",
    "\n",
    "globallabels = mcv4['flg_binary']\n",
    "\n",
    "sex = list(mcv4['sex'])\n",
    "easi = list(mcv4['easi'])\n",
    "asthma = list(mcv4['h_asthmadr'])\n",
    "allergy = list(mcv4['h_allergydr'])\n",
    "hayfever = list(mcv4['h_hayfeverdr'])\n",
    "igelevel = list(mcv4['igelevel'])"
   ]
  },
  {
   "cell_type": "code",
   "execution_count": 67,
   "id": "1e097b63",
   "metadata": {},
   "outputs": [],
   "source": []
  },
  {
   "cell_type": "markdown",
   "id": "404abdab",
   "metadata": {},
   "source": [
    "# Prepare features and labels (hyperlinearity and age only)"
   ]
  },
  {
   "cell_type": "code",
   "execution_count": 103,
   "id": "272a433a",
   "metadata": {},
   "outputs": [],
   "source": [
    "# scale hyperlinearity\n",
    "thenar_scores_10000 = [x/10_000 for x in thenar_scores]"
   ]
  },
  {
   "cell_type": "code",
   "execution_count": 104,
   "id": "dc7c1191",
   "metadata": {},
   "outputs": [],
   "source": [
    "age_and_thenar = []\n",
    "all_flg = []\n",
    "for i in range(len(thenar_scores)):\n",
    "    features = [thenar_scores_10000[i], age[i]]\n",
    "    for x in features:\n",
    "        counter = 0\n",
    "        if np.isnan(x):\n",
    "            counter = counter + 1\n",
    "            #error_count = error_count + 1\n",
    "            break\n",
    "    if counter == 0:\n",
    "        age_and_thenar.append(features)\n",
    "        all_flg.append(globallabels[i])\n",
    "all_flg_df = pd.DataFrame(all_flg, columns = ['FLG labels'])\n",
    "all_flg_df.to_csv(\"all_flg.csv\")\n",
    "\n"
   ]
  },
  {
   "cell_type": "code",
   "execution_count": 106,
   "id": "7856c96b",
   "metadata": {},
   "outputs": [],
   "source": [
    "palmar_scores_10000 = [x/10000 for x in palmar_scores]"
   ]
  },
  {
   "cell_type": "code",
   "execution_count": 107,
   "id": "858aadb0",
   "metadata": {},
   "outputs": [],
   "source": [
    "age_and_palmar = []\n",
    "for i in range(len(palmar_scores)):\n",
    "    features = [palmar_scores_10000[i], age[i]]\n",
    "    for x in features:\n",
    "        counter = 0\n",
    "        if np.isnan(x):\n",
    "            counter = counter + 1\n",
    "            #error_count = error_count + 1\n",
    "            break\n",
    "    if counter == 0:\n",
    "        age_and_palmar.append(features)\n",
    "        #all_flg.append(globallabels[i])"
   ]
  },
  {
   "cell_type": "code",
   "execution_count": 108,
   "id": "2d97fffe",
   "metadata": {},
   "outputs": [
    {
     "name": "stdout",
     "output_type": "stream",
     "text": [
      "531\n",
      "531\n",
      "531\n"
     ]
    }
   ],
   "source": [
    "print(len(all_flg)) # labels\n",
    "print(len(age_and_thenar)) # features: thenar hyperlinearity and age\n",
    "print(len(age_and_palmar)) # features: palmar hyperlinearity and age\n"
   ]
  },
  {
   "cell_type": "markdown",
   "id": "c364988d",
   "metadata": {},
   "source": [
    "## Thenar hyperlinearity and age"
   ]
  },
  {
   "cell_type": "code",
   "execution_count": 70,
   "id": "1be36154",
   "metadata": {},
   "outputs": [
    {
     "name": "stdout",
     "output_type": "stream",
     "text": [
      "[INFO] training classifier...\n",
      "done\n",
      "[STATUS] splitted train and test data...\n",
      "Train data  : (477, 2)\n",
      "Test data   : (54, 2)\n",
      "Train labels: (477,)\n",
      "Test labels : (54,)\n",
      "LogReg: accuracy mean is 64.5% with SD 9.4\n",
      "SVM-L: accuracy mean is 74.0% with SD 5.2\n",
      "LogReg: roc_auc mean is 66.5% with SD 9.3\n",
      "SVM-L: roc_auc mean is 76.0% with SD 4.3\n",
      "LogReg: recall mean is 52.9% with SD 11.0\n",
      "SVM-L: recall mean is 51.2% with SD 7.8\n",
      "LogReg: make_scorer(recall_score, pos_label=1) mean is 52.9% with SD 11.0\n",
      "SVM-L: make_scorer(recall_score, pos_label=1) mean is 51.2% with SD 7.8\n",
      "LogReg: make_scorer(recall_score, pos_label=0) mean is 72.1% with SD 13.2\n",
      "SVM-L: make_scorer(recall_score, pos_label=0) mean is 89.5% with SD 6.0\n"
     ]
    }
   ],
   "source": [
    "datasetx = age_and_thenar\n",
    "labelsx = all_flg\n",
    "\n",
    "test_size=0.1\n",
    "seed=9\n",
    "\n",
    "print(\"[INFO] training classifier...\")\n",
    "models = []\n",
    "models.append(('LogReg', LogisticRegression(random_state=seed, max_iter=400)))\n",
    "models.append(('SVM-L', LinearSVC(random_state=seed, dual=False)))\n",
    "print(\"done\")\n",
    "\n",
    "trainDataGlobal, testDataGlobal, trainLabelsGlobal, testLabelsGlobal = train_test_split(np.array(datasetx),\n",
    "                                                                                          np.array(labelsx),\n",
    "                                                                                          test_size=test_size,\n",
    "                                                                                          random_state=seed)\n",
    "                                                                           #shuffle=True) \n",
    "                                                                                                  \n",
    "print(\"[STATUS] splitted train and test data...\")\n",
    "print(\"Train data  : {}\".format(trainDataGlobal.shape))\n",
    "print(\"Test data   : {}\".format(testDataGlobal.shape))\n",
    "print(\"Train labels: {}\".format(trainLabelsGlobal.shape))\n",
    "print(\"Test labels : {}\".format(testLabelsGlobal.shape))\n",
    "\n",
    "\n",
    "names   = []\n",
    "model_test_cv(kfoldsplits=10)                    #"
   ]
  },
  {
   "cell_type": "markdown",
   "id": "0fd20c59",
   "metadata": {},
   "source": [
    "## Palmar hyperlinearity and age"
   ]
  },
  {
   "cell_type": "code",
   "execution_count": 71,
   "id": "1a5435cf",
   "metadata": {},
   "outputs": [
    {
     "name": "stdout",
     "output_type": "stream",
     "text": [
      "[INFO] training classifier...\n",
      "done\n",
      "[STATUS] splitted train and test data...\n",
      "Train data  : (477, 2)\n",
      "Test data   : (54, 2)\n",
      "Train labels: (477,)\n",
      "Test labels : (54,)\n",
      "LogReg: accuracy mean is 62.7% with SD 7.8\n",
      "SVM-L: accuracy mean is 70.2% with SD 4.8\n",
      "LogReg: roc_auc mean is 62.8% with SD 8.8\n",
      "SVM-L: roc_auc mean is 74.5% with SD 6.2\n",
      "LogReg: recall mean is 51.5% with SD 10.1\n",
      "SVM-L: recall mean is 47.7% with SD 4.5\n",
      "LogReg: make_scorer(recall_score, pos_label=1) mean is 51.5% with SD 10.1\n",
      "SVM-L: make_scorer(recall_score, pos_label=1) mean is 47.7% with SD 4.5\n",
      "LogReg: make_scorer(recall_score, pos_label=0) mean is 70.3% with SD 9.8\n",
      "SVM-L: make_scorer(recall_score, pos_label=0) mean is 85.5% with SD 7.4\n"
     ]
    }
   ],
   "source": [
    "\"\"\"\n",
    "AGE_AND_PALMAR\n",
    "\"\"\"\n",
    "datasetx = age_and_palmar\n",
    "labelsx = all_flg\n",
    "\n",
    "test_size=0.1\n",
    "seed=9\n",
    "\n",
    "print(\"[INFO] training classifier...\")\n",
    "models = []\n",
    "models.append(('LogReg', LogisticRegression(random_state=seed, max_iter=400)))\n",
    "models.append(('SVM-L', LinearSVC(random_state=seed, dual=False)))\n",
    "print(\"done\")\n",
    "\n",
    "trainDataGlobal, testDataGlobal, trainLabelsGlobal, testLabelsGlobal = train_test_split(np.array(datasetx),\n",
    "                                                                                          np.array(labelsx),\n",
    "                                                                                          test_size=test_size,\n",
    "                                                                                          random_state=seed)\n",
    "                                                                           #shuffle=True) \n",
    "                                                                                                  \n",
    "print(\"[STATUS] splitted train and test data...\")\n",
    "print(\"Train data  : {}\".format(trainDataGlobal.shape))\n",
    "print(\"Test data   : {}\".format(testDataGlobal.shape))\n",
    "print(\"Train labels: {}\".format(trainLabelsGlobal.shape))\n",
    "print(\"Test labels : {}\".format(testLabelsGlobal.shape))\n",
    "\n",
    "\n",
    "names   = []\n",
    "model_test_cv(kfoldsplits=10)                    #"
   ]
  },
  {
   "cell_type": "markdown",
   "id": "94c556a1",
   "metadata": {},
   "source": [
    "# LogReg odds ratios"
   ]
  },
  {
   "cell_type": "code",
   "execution_count": 121,
   "id": "21adf5e3",
   "metadata": {},
   "outputs": [
    {
     "name": "stdout",
     "output_type": "stream",
     "text": [
      "[INFO] training classifier...\n",
      "done\n",
      "[STATUS] splitted train and test data...\n",
      "Train data  : (477, 2)\n",
      "Test data   : (54, 2)\n",
      "Train labels: (477,)\n",
      "Test labels : (54,)\n",
      "LogReg: accuracy mean is 74.4% with SD 3.1\n",
      "SVM-L: accuracy mean is 74.4% with SD 3.2\n",
      "LogReg: roc_auc mean is 76.9% with SD 4.6\n",
      "SVM-L: roc_auc mean is 76.9% with SD 4.5\n",
      "LogReg: recall mean is 52.4% with SD 6.4\n",
      "SVM-L: recall mean is 52.0% with SD 6.7\n",
      "LogReg: make_scorer(recall_score, pos_label=1) mean is 52.4% with SD 6.4\n",
      "SVM-L: make_scorer(recall_score, pos_label=1) mean is 52.0% with SD 6.7\n",
      "LogReg: make_scorer(recall_score, pos_label=0) mean is 89.3% with SD 7.5\n",
      "SVM-L: make_scorer(recall_score, pos_label=0) mean is 89.6% with SD 7.3\n"
     ]
    }
   ],
   "source": [
    "\"\"\"\n",
    "AGE_AND_THENAR\n",
    "\"\"\"\n",
    "datasetx = age_and_thenar\n",
    "labelsx = all_flg\n",
    "\n",
    "test_size=0.1\n",
    "seed=9\n",
    "\n",
    "print(\"[INFO] training classifier...\")\n",
    "models = []\n",
    "models.append(('LogReg', LogisticRegression(random_state=seed, max_iter=400)))\n",
    "models.append(('SVM-L', LinearSVC(random_state=seed, dual=False)))\n",
    "print(\"done\")\n",
    "\n",
    "trainDataGlobal, testDataGlobal, trainLabelsGlobal, testLabelsGlobal = train_test_split(np.array(datasetx),\n",
    "                                                                                          np.array(labelsx),\n",
    "                                                                                          test_size=test_size,\n",
    "                                                                                          random_state=seed)\n",
    "                                                                           #shuffle=True) \n",
    "                                                                                                  \n",
    "print(\"[STATUS] splitted train and test data...\")\n",
    "print(\"Train data  : {}\".format(trainDataGlobal.shape))\n",
    "print(\"Test data   : {}\".format(testDataGlobal.shape))\n",
    "print(\"Train labels: {}\".format(trainLabelsGlobal.shape))\n",
    "print(\"Test labels : {}\".format(testLabelsGlobal.shape))\n",
    "\n",
    "\n",
    "names   = []\n",
    "model_test_cv(kfoldsplits=10)                    #"
   ]
  },
  {
   "cell_type": "code",
   "execution_count": 122,
   "id": "c390a054",
   "metadata": {},
   "outputs": [
    {
     "name": "stdout",
     "output_type": "stream",
     "text": [
      "Odds Ratio for feature palmar_hyperlinearity_scores: 7.88314155582787 (per 10_000 hyperlinearity score)\n",
      "Odds Ratio for feature age: 0.9658315648691034\n"
     ]
    }
   ],
   "source": [
    "logreg = LogisticRegression(random_state=seed, max_iter=400)\n",
    "logreg.fit(trainDataGlobal, trainLabelsGlobal)\n",
    "# Get the model's coefficients\n",
    "coefficients = logreg.coef_[0]\n",
    "coefficients\n",
    "# Calculate and print the odds ratios\n",
    "odds_ratios = np.exp(coefficients)\n",
    "for i in range(len(odds_ratios)):\n",
    "    if i == 0:\n",
    "        print(f\"Odds Ratio for feature {feature_names[i]}: {odds_ratios[i]} (per 10_000 hyperlinearity score)\")\n",
    "    else:\n",
    "        print(f\"Odds Ratio for feature {feature_names[i]}: {odds_ratios[i]}\")"
   ]
  },
  {
   "cell_type": "code",
   "execution_count": 132,
   "id": "34465061",
   "metadata": {},
   "outputs": [],
   "source": [
    "feature_names = ['hyperlinearity_scores',\n",
    " 'age',\n",
    " 'sex',\n",
    " 'easi',\n",
    " 'asthma',\n",
    " 'allergy',\n",
    " 'hayfever']"
   ]
  },
  {
   "cell_type": "code",
   "execution_count": 124,
   "id": "4e641a7e",
   "metadata": {},
   "outputs": [],
   "source": [
    "feature_names = feature_names[:2]"
   ]
  },
  {
   "cell_type": "code",
   "execution_count": 126,
   "id": "ac5d0970",
   "metadata": {},
   "outputs": [
    {
     "name": "stdout",
     "output_type": "stream",
     "text": [
      "[INFO] training classifier...\n",
      "done\n",
      "[STATUS] splitted train and test data...\n",
      "Train data  : (477, 2)\n",
      "Test data   : (54, 2)\n",
      "Train labels: (477,)\n",
      "Test labels : (54,)\n",
      "LogReg: accuracy mean is 70.7% with SD 5.2\n",
      "SVM-L: accuracy mean is 70.4% with SD 5.0\n",
      "LogReg: roc_auc mean is 74.2% with SD 6.4\n",
      "SVM-L: roc_auc mean is 74.3% with SD 6.3\n",
      "LogReg: recall mean is 48.7% with SD 5.2\n",
      "SVM-L: recall mean is 48.1% with SD 5.3\n",
      "LogReg: make_scorer(recall_score, pos_label=1) mean is 48.7% with SD 5.2\n",
      "SVM-L: make_scorer(recall_score, pos_label=1) mean is 48.1% with SD 5.3\n",
      "LogReg: make_scorer(recall_score, pos_label=0) mean is 85.5% with SD 7.4\n",
      "SVM-L: make_scorer(recall_score, pos_label=0) mean is 85.5% with SD 7.4\n"
     ]
    }
   ],
   "source": [
    "datasetx = age_and_palmar\n",
    "labelsx = all_flg\n",
    "\n",
    "test_size=0.1\n",
    "seed=9\n",
    "\n",
    "print(\"[INFO] training classifier...\")\n",
    "models = []\n",
    "models.append(('LogReg', LogisticRegression(random_state=seed, max_iter=400)))\n",
    "models.append(('SVM-L', LinearSVC(random_state=seed, dual=False)))\n",
    "print(\"done\")\n",
    "\n",
    "trainDataGlobal, testDataGlobal, trainLabelsGlobal, testLabelsGlobal = train_test_split(np.array(datasetx),\n",
    "                                                                                          np.array(labelsx),\n",
    "                                                                                          test_size=test_size,\n",
    "                                                                                          random_state=seed)\n",
    "                                                                           #shuffle=True) \n",
    "                                                                                                  \n",
    "print(\"[STATUS] splitted train and test data...\")\n",
    "print(\"Train data  : {}\".format(trainDataGlobal.shape))\n",
    "print(\"Test data   : {}\".format(testDataGlobal.shape))\n",
    "print(\"Train labels: {}\".format(trainLabelsGlobal.shape))\n",
    "print(\"Test labels : {}\".format(testLabelsGlobal.shape))\n",
    "\n",
    "\n",
    "names   = []\n",
    "model_test_cv(kfoldsplits=10)                    #"
   ]
  },
  {
   "cell_type": "code",
   "execution_count": 127,
   "id": "df248d49",
   "metadata": {},
   "outputs": [
    {
     "name": "stdout",
     "output_type": "stream",
     "text": [
      "Odds Ratio for feature palmar_hyperlinearity_scores: 5.819976084039307 (per 5000 hyperlinearity score)\n",
      "Odds Ratio for feature age: 0.9759711514824588\n"
     ]
    }
   ],
   "source": [
    "logreg = LogisticRegression(random_state=seed, max_iter=400)\n",
    "logreg.fit(trainDataGlobal, trainLabelsGlobal)\n",
    "# Get the model's coefficients\n",
    "coefficients = logreg.coef_[0]\n",
    "coefficients\n",
    "# Calculate and print the odds ratios\n",
    "odds_ratios = np.exp(coefficients)\n",
    "for i in range(len(odds_ratios)):\n",
    "    if i == 0:\n",
    "        print(f\"Odds Ratio for feature {feature_names[i]}: {odds_ratios[i]} (per 5000 hyperlinearity score)\")\n",
    "    else:\n",
    "        print(f\"Odds Ratio for feature {feature_names[i]}: {odds_ratios[i]}\")\n"
   ]
  },
  {
   "cell_type": "code",
   "execution_count": null,
   "id": "59d25c65",
   "metadata": {},
   "outputs": [],
   "source": []
  },
  {
   "cell_type": "markdown",
   "id": "f46ab599",
   "metadata": {},
   "source": [
    "# Expanded variables "
   ]
  },
  {
   "cell_type": "code",
   "execution_count": 133,
   "id": "7e9e9462",
   "metadata": {},
   "outputs": [],
   "source": [
    "feature_names = ['hyperlinearity_scores',\n",
    " 'age',\n",
    " 'sex',\n",
    " 'easi',\n",
    " 'asthma',\n",
    " 'allergy',\n",
    " 'hayfever']"
   ]
  },
  {
   "cell_type": "code",
   "execution_count": 134,
   "id": "1960dbfb",
   "metadata": {},
   "outputs": [],
   "source": [
    "thenar_scores_10000 = [x/10_000 for x in thenar_scores]\n"
   ]
  },
  {
   "cell_type": "code",
   "execution_count": 135,
   "id": "1addd858",
   "metadata": {},
   "outputs": [
    {
     "name": "stdout",
     "output_type": "stream",
     "text": [
      "528\n",
      "528\n"
     ]
    }
   ],
   "source": [
    "expanded_variables_wo_ige_flg = []\n",
    "expanded_variables_wo_ige = []\n",
    "for i in range(len(thenar_scores_10000)):\n",
    "    features = [thenar_scores_10000[i], age[i], sex[i], easi[i], asthma[i],\n",
    "                              allergy[i], hayfever[i]]\n",
    "    for x in features:\n",
    "        counter = 0\n",
    "        if np.isnan(x):\n",
    "            counter = counter + 1\n",
    "            #error_count = error_count + 1\n",
    "            break\n",
    "    if counter == 0:\n",
    "        expanded_variables_wo_ige.append(features)\n",
    "        expanded_variables_wo_ige_flg.append(globallabels[i])\n",
    "\n",
    "print(len(expanded_variables_wo_ige_flg))\n",
    "print(len(expanded_variables_wo_ige))\n",
    "\n",
    "\n",
    "\n"
   ]
  },
  {
   "cell_type": "code",
   "execution_count": 136,
   "id": "00949f8d",
   "metadata": {},
   "outputs": [
    {
     "name": "stdout",
     "output_type": "stream",
     "text": [
      "[INFO] training classifier...\n",
      "done\n",
      "[STATUS] splitted train and test data...\n",
      "Train data  : (475, 7)\n",
      "Test data   : (53, 7)\n",
      "Train labels: (475,)\n",
      "Test labels : (53,)\n",
      "LogReg: accuracy mean is 74.8% with SD 6.3\n",
      "SVM-L: accuracy mean is 74.5% with SD 6.6\n",
      "LogReg: roc_auc mean is 76.6% with SD 9.7\n",
      "SVM-L: roc_auc mean is 76.7% with SD 9.6\n",
      "LogReg: recall mean is 52.3% with SD 11.9\n",
      "SVM-L: recall mean is 52.3% with SD 11.9\n",
      "LogReg: make_scorer(recall_score, pos_label=1) mean is 52.3% with SD 11.9\n",
      "SVM-L: make_scorer(recall_score, pos_label=1) mean is 52.3% with SD 11.9\n",
      "LogReg: make_scorer(recall_score, pos_label=0) mean is 89.1% with SD 5.9\n",
      "SVM-L: make_scorer(recall_score, pos_label=0) mean is 88.8% with SD 6.1\n"
     ]
    }
   ],
   "source": [
    "# Thenar\n",
    "datasetx = expanded_variables_wo_ige\n",
    "labelsx = expanded_variables_wo_ige_flg\n",
    "\n",
    "test_size=0.1\n",
    "seed=9\n",
    "\n",
    "print(\"[INFO] training classifier...\")\n",
    "models = []\n",
    "models.append(('LogReg', LogisticRegression(random_state=seed, max_iter=400)))\n",
    "models.append(('SVM-L', LinearSVC(random_state=seed, dual=False)))\n",
    "print(\"done\")\n",
    "\n",
    "trainDataGlobal, testDataGlobal, trainLabelsGlobal, testLabelsGlobal = train_test_split(np.array(datasetx),\n",
    "                                                                                          np.array(labelsx),\n",
    "                                                                                          test_size=test_size,\n",
    "                                                                                          random_state=seed)\n",
    "                                                                           #shuffle=True) \n",
    "                                                                                                  \n",
    "print(\"[STATUS] splitted train and test data...\")\n",
    "print(\"Train data  : {}\".format(trainDataGlobal.shape))\n",
    "print(\"Test data   : {}\".format(testDataGlobal.shape))\n",
    "print(\"Train labels: {}\".format(trainLabelsGlobal.shape))\n",
    "print(\"Test labels : {}\".format(testLabelsGlobal.shape))\n",
    "\n",
    "\n",
    "names   = []\n",
    "model_test_cv(kfoldsplits=10)                    #"
   ]
  },
  {
   "cell_type": "code",
   "execution_count": 137,
   "id": "c5e97e7e",
   "metadata": {},
   "outputs": [
    {
     "name": "stdout",
     "output_type": "stream",
     "text": [
      "Odds Ratio for feature hyperlinearity_scores: 8.448283133361121 (per 10_000 hyperlinearity score)\n",
      "Odds Ratio for feature age: 0.9630401552050338\n",
      "Odds Ratio for feature sex: 0.6465470171163346\n",
      "Odds Ratio for feature easi: 1.0000683745299495\n",
      "Odds Ratio for feature asthma: 1.311884690582012\n",
      "Odds Ratio for feature allergy: 1.1215817408329332\n",
      "Odds Ratio for feature hayfever: 0.906418632612487\n"
     ]
    }
   ],
   "source": [
    "logreg = LogisticRegression(random_state=seed, max_iter=400)\n",
    "logreg.fit(trainDataGlobal, trainLabelsGlobal)\n",
    "# Get the model's coefficients\n",
    "coefficients = logreg.coef_[0]\n",
    "coefficients\n",
    "# Calculate and print the odds ratios\n",
    "odds_ratios = np.exp(coefficients)\n",
    "for i in range(len(odds_ratios)):\n",
    "    if i == 0:\n",
    "        print(f\"Odds Ratio for feature {feature_names[i]}: {odds_ratios[i]} (per 10_000 hyperlinearity score)\")\n",
    "    else:\n",
    "        print(f\"Odds Ratio for feature {feature_names[i]}: {odds_ratios[i]}\")"
   ]
  },
  {
   "cell_type": "code",
   "execution_count": 98,
   "id": "23064bdb",
   "metadata": {},
   "outputs": [],
   "source": [
    "palmar_scores_10000 = [x/10_000 for x in palmar_scores]\n"
   ]
  },
  {
   "cell_type": "code",
   "execution_count": 139,
   "id": "db6329ed",
   "metadata": {},
   "outputs": [
    {
     "name": "stdout",
     "output_type": "stream",
     "text": [
      "528\n",
      "528\n",
      "[INFO] training classifier...\n",
      "done\n",
      "[STATUS] splitted train and test data...\n",
      "Train data  : (475, 7)\n",
      "Test data   : (53, 7)\n",
      "Train labels: (475,)\n",
      "Test labels : (53,)\n",
      "LogReg: accuracy mean is 71.0% with SD 8.4\n",
      "SVM-L: accuracy mean is 71.4% with SD 8.4\n",
      "LogReg: roc_auc mean is 74.3% with SD 11.5\n",
      "SVM-L: roc_auc mean is 74.3% with SD 11.6\n",
      "LogReg: recall mean is 48.7% with SD 13.3\n",
      "SVM-L: recall mean is 49.8% with SD 12.9\n",
      "LogReg: make_scorer(recall_score, pos_label=1) mean is 48.7% with SD 13.3\n",
      "SVM-L: make_scorer(recall_score, pos_label=1) mean is 49.8% with SD 12.9\n",
      "LogReg: make_scorer(recall_score, pos_label=0) mean is 85.1% with SD 8.8\n",
      "SVM-L: make_scorer(recall_score, pos_label=0) mean is 85.1% with SD 8.8\n"
     ]
    }
   ],
   "source": [
    "expanded_variables_wo_ige_flg_palmar = []\n",
    "expanded_variables_wo_ige_palmar = []\n",
    "for i in range(len(palmar_scores_10000)):\n",
    "    features = [palmar_scores_10000[i], age[i], sex[i], easi[i], asthma[i],\n",
    "                              allergy[i], hayfever[i]]\n",
    "    for x in features:\n",
    "        counter = 0\n",
    "        if np.isnan(x):\n",
    "            counter = counter + 1\n",
    "            #error_count = error_count + 1\n",
    "            break\n",
    "    if counter == 0:\n",
    "        expanded_variables_wo_ige_palmar.append(features)\n",
    "        expanded_variables_wo_ige_flg_palmar.append(globallabels[i])\n",
    "\n",
    "print(len(expanded_variables_wo_ige_flg_palmar))\n",
    "print(len(expanded_variables_wo_ige_palmar))\n",
    "\n",
    "\"\"\"\n",
    "EXPANDED VARIABLES W/O IGE PALMAR\n",
    "\"\"\"\n",
    "datasetx = expanded_variables_wo_ige_palmar\n",
    "labelsx = expanded_variables_wo_ige_flg_palmar\n",
    "\n",
    "test_size=0.1\n",
    "seed=9\n",
    "\n",
    "print(\"[INFO] training classifier...\")\n",
    "models = []\n",
    "models.append(('LogReg', LogisticRegression(random_state=seed, max_iter=400)))\n",
    "models.append(('SVM-L', LinearSVC(random_state=seed, dual=False)))\n",
    "print(\"done\")\n",
    "\n",
    "trainDataGlobal, testDataGlobal, trainLabelsGlobal, testLabelsGlobal = train_test_split(np.array(datasetx),\n",
    "                                                                                          np.array(labelsx),\n",
    "                                                                                          test_size=test_size,\n",
    "                                                                                          random_state=seed)\n",
    "                                                                           #shuffle=True) \n",
    "                                                                                                  \n",
    "print(\"[STATUS] splitted train and test data...\")\n",
    "print(\"Train data  : {}\".format(trainDataGlobal.shape))\n",
    "print(\"Test data   : {}\".format(testDataGlobal.shape))\n",
    "print(\"Train labels: {}\".format(trainLabelsGlobal.shape))\n",
    "print(\"Test labels : {}\".format(testLabelsGlobal.shape))\n",
    "\n",
    "\n",
    "names   = []\n",
    "model_test_cv(kfoldsplits=10)                    #"
   ]
  },
  {
   "cell_type": "code",
   "execution_count": 82,
   "id": "21e89596",
   "metadata": {},
   "outputs": [],
   "source": [
    "feature_names = [\"palmar_hyperlinearity_scores\", \"age\", \"sex\", \"easi\", \"asthma\",\n",
    "                              \"allergy\", \"hayfever\"]"
   ]
  },
  {
   "cell_type": "code",
   "execution_count": 140,
   "id": "3db85e2e",
   "metadata": {},
   "outputs": [
    {
     "name": "stdout",
     "output_type": "stream",
     "text": [
      "Odds Ratio for feature hyperlinearity_scores: 6.318023256801032 (per 5000 hyperlinearity score)\n",
      "Odds Ratio for feature age: 0.9730412314530356\n",
      "Odds Ratio for feature sex: 0.722639703636423\n",
      "Odds Ratio for feature easi: 1.0045563264179167\n",
      "Odds Ratio for feature asthma: 1.225375302369595\n",
      "Odds Ratio for feature allergy: 1.1354999030802664\n",
      "Odds Ratio for feature hayfever: 0.970917631727967\n"
     ]
    }
   ],
   "source": [
    "logreg = LogisticRegression(random_state=seed, max_iter=400)\n",
    "logreg.fit(trainDataGlobal, trainLabelsGlobal)\n",
    "# Get the model's coefficients\n",
    "coefficients = logreg.coef_[0]\n",
    "coefficients\n",
    "# Calculate and print the odds ratios\n",
    "odds_ratios = np.exp(coefficients)\n",
    "for i in range(len(odds_ratios)):\n",
    "    if i == 0:\n",
    "        print(f\"Odds Ratio for feature {feature_names[i]}: {odds_ratios[i]} (per 5000 hyperlinearity score)\")\n",
    "    else:\n",
    "        print(f\"Odds Ratio for feature {feature_names[i]}: {odds_ratios[i]}\")\n"
   ]
  },
  {
   "cell_type": "code",
   "execution_count": null,
   "id": "ba62d0ac",
   "metadata": {},
   "outputs": [],
   "source": [
    " [palmar_scores[i], age[i], sex[i], easi[i], asthma[i],\n",
    "                              allergy[i], hayfever[i]]"
   ]
  },
  {
   "cell_type": "code",
   "execution_count": null,
   "id": "323f9f94",
   "metadata": {},
   "outputs": [],
   "source": []
  },
  {
   "cell_type": "code",
   "execution_count": null,
   "id": "3eb9f573",
   "metadata": {},
   "outputs": [],
   "source": []
  }
 ],
 "metadata": {
  "kernelspec": {
   "display_name": "Python 3 (ipykernel)",
   "language": "python",
   "name": "python3"
  },
  "language_info": {
   "codemirror_mode": {
    "name": "ipython",
    "version": 3
   },
   "file_extension": ".py",
   "mimetype": "text/x-python",
   "name": "python",
   "nbconvert_exporter": "python",
   "pygments_lexer": "ipython3",
   "version": "3.11.3"
  }
 },
 "nbformat": 4,
 "nbformat_minor": 5
}
