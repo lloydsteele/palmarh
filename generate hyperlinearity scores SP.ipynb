{
 "cells": [
  {
   "cell_type": "code",
   "execution_count": null,
   "metadata": {},
   "outputs": [],
   "source": [
    "from skimage import io\n",
    "\n",
    "from skimage.filters import roberts, scharr, prewitt, sobel, hessian, frangi, sato, threshold_yen\n",
    "from skimage.transform import rescale, resize, downscale_local_mean\n",
    "from skimage.exposure import equalize_hist\n",
    "from skimage.measure import label, regionprops, regionprops_table\n",
    "from skimage.morphology import erosion, dilation\n",
    "from skimage.feature import greycomatrix, greycoprops\n",
    "\n",
    "from matplotlib import pyplot as plt\n",
    "\n",
    "import os\n",
    "import numpy as np\n",
    "import pandas as pd\n",
    "\n",
    "from skimage.filters import gaussian\n",
    "\n",
    "\n",
    "from matplotlib import pyplot as plt\n",
    "import seaborn as sns\n",
    "import numpy as np\n",
    "\n",
    "import os\n",
    "import glob\n",
    "import math\n",
    "\n",
    "import statistics\n",
    "from scipy.stats import mannwhitneyu, f_oneway\n",
    "from statsmodels.stats.multicomp import pairwise_tukeyhsd\n",
    "\n"
   ]
  },
  {
   "cell_type": "code",
   "execution_count": null,
   "metadata": {},
   "outputs": [],
   "source": [
    "def lines(path, store, threshold=0.02):\n",
    "    length = len(os.listdir(path))\n",
    "    i=0 \n",
    "    for image_path in os.listdir(path):\n",
    "        if not image_path.startswith('.'):\n",
    "            i = i+1\n",
    "            print(f\"{i} of {length-1}\") #path: {path}, type: {store}\")\n",
    "            input_path = os.path.join(path, image_path)\n",
    "            img = io.imread(input_path, as_gray=True)\n",
    "            img = resize(img, (512, 256))\n",
    "            imagewt = sato(img, mode='constant')\n",
    "            number = np.sum(imagewt>threshold)\n",
    "            name = image_path\n",
    "            store[name] = number\n",
    "            \n",
    "            \n",
    "def pvalues(a, b, c):\n",
    "    F, p = f_oneway(a, b, c)\n",
    "    print('Statistics=%.3f, p=%.3f' % (F, p))\n",
    "    scores = a + b + c\n",
    "    group = []\n",
    "    for i in range(len(a)):\n",
    "        group.append('WT')\n",
    "    for i in range(len(b)):\n",
    "        group.append('Het')\n",
    "    for i in range(len(c)):\n",
    "        group.append('Homo')\n",
    "    df = pd.DataFrame({'score': scores, 'group': group})\n",
    "    tukey = pairwise_tukeyhsd(endog=df['score'],\n",
    "                             groups=df['group'],\n",
    "                             alpha=0.05)\n",
    "    print(tukey)  \n",
    "\n",
    "def plotbox(a, xa, ya, ylabel, alpha=0.5, s=3.5):\n",
    "    sns.set(style=\"white\")\n",
    "    boxplot_width = 0.1 # thinner to make room for having swarmplot beside\n",
    "    swarmplot_offset = -0.5 # offset to left of boxplot\n",
    "    xlim_offset = -1 # necessary to show leftmost swarmplot  \n",
    "    colours = ['lightskyblue','coral', 'dimgrey']\n",
    "    #fig = plt.figure(figsize=(6,4))\n",
    "\n",
    "    ax = sns.swarmplot(x=xa, y=ya, data=a, palette=colours, alpha=alpha, s=s)\n",
    "\n",
    "    path_collections = [child for child in ax.get_children() \n",
    "                        if isinstance(child,matplotlib.collections.PathCollection)] \n",
    "\n",
    "    for path_collection in path_collections: \n",
    "        x,y = np.array(path_collection.get_offsets()).T \n",
    "        xnew = x + swarmplot_offset\n",
    "        offsets = list(zip(xnew,y)) \n",
    "        path_collection.set_offsets(offsets)\n",
    "\n",
    "    sns.boxplot(x=xa, y=ya, data=a, width=boxplot_width, ax=ax, palette=colours) \n",
    "    def change_width(ax, new_value):\n",
    "        for patch in ax.patches:\n",
    "            current_width = patch.get_width()\n",
    "            diff = current_width - new_value\n",
    "            # change patch width\n",
    "            patch.set_width(new_value)\n",
    "            # re-center patch\n",
    "            patch.set_x(patch.get_x() + diff * .5)\n",
    "    change_width(ax,.25)\n",
    "    plt.xticks([0, 1.1, 2.3], ['Wild Type', 'Heterozygous', 'Homozygous or \\ncompound het'])\n",
    "    ax.set_xticklabels(ax.get_xticklabels(), ha=\"right\") # align labels to left\n",
    "    ax.set_xlim(xlim_offset,ax.get_xlim()[1]) # to show leftmost swarmplot\n",
    "    ax.set_xlabel('Filaggrin gene mutation status', fontsize=14)\n",
    "    ax.set_ylabel(ylabel, fontsize=14)\n",
    "    ax.yaxis.set_major_formatter(matplotlib.ticker.StrMethodFormatter('{x:,.0f}'))\n",
    "    #plt.xticks([1, 2, 3], ['WT', '+/-', '-/-'])\n",
    "\n",
    "###COMPARISON 0 AND 1\n",
    "def addstats(result01, result12, result02, ymax):\n",
    "    x1, x2 = 0, 1   # columns 'Sat' and 'Sun' (first column: 0, see plt.xticks())\n",
    "    y = a[ya].max() + (a[ya].max() * 0.05 )\n",
    "    h = 2\n",
    "    col = 'k'\n",
    "\n",
    "    plt.plot([x1, x1, x2, x2], [y, y+h, y+h, y], lw=1.5, c=col)\n",
    "    plt.text((x1+x2)*.5, y+h, result01, ha='center', va='bottom', color=col)\n",
    "    ###COMPARISON 1 AND 2\n",
    "    x1, x2 = 1, 2   # columns 'Sat' and 'Sun' (first column: 0, see plt.xticks())\n",
    "\n",
    "\n",
    "    y = a[ya].max() + (a[ya].max() * 0.1 )\n",
    "    plt.plot([x1, x1, x2, x2], [y, y+h, y+h, y], lw=1.5, c=col)\n",
    "    plt.text((x1+x2)*.5, y+h, result12, ha='center', va='bottom', color=col)\n",
    "\n",
    "    ###COMPARISON 0 AND 1\n",
    "    x1, x2 = 0, 2   # columns 'Sat' and 'Sun' (first column: 0, see plt.xticks())\n",
    "\n",
    "\n",
    "    y = a[ya].max() + (a[ya].max() * 0.18 )\n",
    "\n",
    "    plt.plot([x1, x1, x2, x2], [y, y+h, y+h, y], lw=1.5, c=col)\n",
    "    plt.text((x1+x2)*.5, y+h, result02, ha='center', va='bottom', color=col)\n",
    "    \n",
    "def countimages(path):\n",
    "    i=0\n",
    "    for fname in os.listdir(path):\n",
    "        if not fname.startswith('.'):\n",
    "            i=i+1\n",
    "            #print(fname)\n",
    "    print(f\"Image count for {path}: {i}\")\n",
    "    return i\n",
    "\n"
   ]
  },
  {
   "cell_type": "code",
   "execution_count": null,
   "metadata": {
    "scrolled": true
   },
   "outputs": [],
   "source": [
    "\"\"\"\n",
    "PATHS\n",
    "\"\"\"\n",
    "\n",
    "base_dir = '/Users/L/Downloads/palmarhyperlinearity/'\n",
    "base_dir_thenar = '/Users/L/Downloads/palmarhyperlinearity/thenarversionall2/'\n",
    "base_dir_p = '/Users/L/Downloads/palmarhyperlinearity/palmarversionall2/'\n",
    "\n",
    "path_thenar_wt = os.path.join(base_dir_thenar, 'wtupdated')\n",
    "path_thenar_het = os.path.join(base_dir_thenar, 'het')\n",
    "path_thenar_homo = os.path.join(base_dir_thenar, 'homo')\n",
    "\n",
    "path_palm_wt = os.path.join(base_dir_p, 'wt')\n",
    "path_palm_het = os.path.join(base_dir_p, 'het')\n",
    "path_palm_homo = os.path.join(base_dir_p, 'homo')\n",
    "\n",
    "countimages(path_thenar_wt) \n",
    " \n",
    "countimages(path_thenar_het) \n",
    " \n",
    "countimages(path_thenar_homo) \n",
    " \n",
    "\n",
    "countimages(path_palm_wt)\n",
    "countimages(path_palm_het)\n",
    "countimages(path_palm_homo)\n",
    "\n",
    "print(f\" total image count = {countimages(path_palm_wt) + countimages(path_palm_het) + countimages(path_palm_homo)}\")\n"
   ]
  },
  {
   "cell_type": "code",
   "execution_count": null,
   "metadata": {},
   "outputs": [],
   "source": [
    "\"\"\"\n",
    "T0.02 - score generation\n",
    "\"\"\"\n",
    "thres = 0.02\n",
    "\n",
    "thenar_wt_scores= {}\n",
    "thenar_het_scores= {}\n",
    "thenar_homo_scores= {}\n",
    "\n",
    "lines(path_thenar_wt, thenar_wt_scores, thres)\n",
    "lines(path_thenar_het, thenar_het_scores, thres) \n",
    "lines(path_thenar_homo, thenar_homo_scores, thres)\n",
    "\n",
    "\"\"\"\n",
    "P0.02 - score generation\n",
    "\"\"\"\n",
    "thres=0.02\n",
    "\n",
    "palmwtscores= {} \n",
    "palmhetscores= {}\n",
    "palmhomoscores= {}\n",
    "\n",
    "lines(path_palm_wt, palmwtscores, thres)\n",
    "lines(path_palm_het, palmhetscores, thres)\n",
    "lines(path_palm_homo, palmhomoscores, thres)\n",
    "\n",
    "print(\"done palm 0.02\")\n",
    "\n"
   ]
  },
  {
   "cell_type": "code",
   "execution_count": null,
   "metadata": {},
   "outputs": [],
   "source": [
    "\"\"\"\n",
    "T0.02 - dataframe\n",
    "\"\"\"\n",
    "\n",
    "thenarwtdf = pd.DataFrame.from_dict(thenar_wt_scores, orient=\"index\")\n",
    "thenarwtdf['ID'] = thenarwtdf.index\n",
    "thenarwtdf = thenarwtdf.assign(FLGstatus = 0)\n",
    "\n",
    "thenarhetdf = pd.DataFrame.from_dict(thenar_het_scores, orient=\"index\")\n",
    "thenarhetdf['ID'] = thenarhetdf.index\n",
    "thenarhetdf = thenarhetdf.assign(FLGstatus = 1)\n",
    "\n",
    "thenarhomodf = pd.DataFrame.from_dict(thenar_homo_scores, orient=\"index\")\n",
    "thenarhomodf['ID'] = thenarhomodf.index\n",
    "thenarhomodf = thenarhomodf.assign(FLGstatus = 2)\n",
    "\n",
    "\n",
    "\n",
    "\n",
    "thenarscoresalldf = pd.concat([thenarwtdf, thenarhetdf, thenarhomodf])\n",
    "thenarscoresalldf.set_index(['ID'])\n",
    "thenarscoresalldf.columns = ['Thenar scores', 'ID', 'FLG status']\n",
    "\n",
    "thenarscoresalldf.head()\n",
    "\n",
    "thenarscoresalldf.to_csv(\"thenarscoresalldf.csv\")\n",
    "\n",
    "list_thenar_wt_scores = list(thenar_wt_scores.values())\n",
    "list_thenar_het_scores  = list(thenar_het_scores.values())\n",
    "list_thenar_homo_scores  = list(thenar_homo_scores.values())\n",
    "\n",
    "pvalues(list_thenar_wt_scores , list_thenar_het_scores, list_thenar_homo_scores)"
   ]
  },
  {
   "cell_type": "code",
   "execution_count": null,
   "metadata": {},
   "outputs": [],
   "source": [
    "\"\"\"\n",
    "T0.02 - figure\n",
    "\"\"\"\n",
    "\n",
    "a = pd.read_csv(\"thenarscoresalldf.csv\")\n",
    "ylab = 'Thenar hyperlinearity score'\n",
    "\n",
    "ya=\"Thenar scores\"\n",
    "result01 = \"***\"\n",
    "result12 = \"***\"\n",
    "result02 = \"***\"\n",
    "\n",
    "plotbox(a=a, xa=\"FLG status\", ya=ya, ylabel=ylab, alpha=0.5, s=3.5)\n",
    "ymax = a[ya].max()\n",
    "addstats(result01, result12, result02, ymax)\n",
    "#plt.title('Thenar dataset')\n",
    "\n",
    "#####add in scores from other images\n",
    "x1, x2 = -1, 3   # columns 'Sat' and 'Sun' (first column: 0, see plt.xticks())\n",
    "h = 2\n",
    "col = 'k'\n",
    "\n",
    "y = 12214\n",
    "plt.plot([x1, x1, x2, x2], [y, y+h, y+h, y], lw=0.2, c=col)\n",
    "plt.text((x1+x2)*.5, y+h, result01, ha='center', va='bottom', color=col)\n",
    "\n",
    "y = 11855\n",
    "plt.plot([x1, x1, x2, x2], [y, y+h, y+h, y], lw=0.2, c=col)\n",
    "plt.text((x1+x2)*.5, y+h, result01, ha='center', va='bottom', color=col)\n",
    "\n",
    "y = 20479\n",
    "plt.plot([x1, x1, x2, x2], [y, y+h, y+h, y], lw=0.2, c=col)\n",
    "plt.text((x1+x2)*.5, y+h, result01, ha='center', va='bottom', color=col)\n",
    "\n",
    "\n",
    "sns.despine()\n",
    "plt.show()\n",
    "\n",
    "\n",
    "\n"
   ]
  },
  {
   "cell_type": "code",
   "execution_count": null,
   "metadata": {},
   "outputs": [],
   "source": [
    "st_dev = statistics.pstdev(list_thenar_wt_scores)\n",
    "print(statistics.mean(list_thenar_wt_scores))\n",
    "print(\"Standard deviation of the thenar wt 0.02: \" + str(st_dev))\n",
    "print(\" \")\n",
    "\n",
    "print(statistics.mean(list_thenar_het_scores))\n",
    "st_dev = statistics.pstdev(list_thenar_het_scores)\n",
    "print(\"Standard deviation of the thenar -/+ 0.02: \" + str(st_dev))\n",
    "print(\" \")\n",
    "\n",
    "print(statistics.mean(list_thenar_homo_scores))\n",
    "st_dev = statistics.pstdev(list_thenar_homo_scores)\n",
    "print(\"Standard deviation of the thenar -/- 0.02: \" + str(st_dev))"
   ]
  },
  {
   "cell_type": "code",
   "execution_count": null,
   "metadata": {},
   "outputs": [],
   "source": [
    "#"
   ]
  },
  {
   "cell_type": "code",
   "execution_count": null,
   "metadata": {},
   "outputs": [],
   "source": [
    "#"
   ]
  },
  {
   "cell_type": "code",
   "execution_count": null,
   "metadata": {},
   "outputs": [],
   "source": [
    "#"
   ]
  },
  {
   "cell_type": "code",
   "execution_count": null,
   "metadata": {},
   "outputs": [],
   "source": [
    "#"
   ]
  },
  {
   "cell_type": "code",
   "execution_count": null,
   "metadata": {},
   "outputs": [],
   "source": [
    "#"
   ]
  },
  {
   "cell_type": "code",
   "execution_count": null,
   "metadata": {},
   "outputs": [],
   "source": [
    "\"\"\"\n",
    "P0.02 - dataframe generation\n",
    "\"\"\"\n",
    "palmwtdf = pd.DataFrame.from_dict(palmwtscores, orient=\"index\")\n",
    "palmwtdf['ID'] = palmwtdf.index\n",
    "palmwtdf = palmwtdf.assign(FLGstatus = 0)\n",
    "\n",
    "palmhetdf = pd.DataFrame.from_dict(palmhetscores, orient=\"index\")\n",
    "palmhetdf['ID'] = palmhetdf.index\n",
    "palmhetdf = palmhetdf.assign(FLGstatus = 1)\n",
    "\n",
    "palmhomodf = pd.DataFrame.from_dict(palmhomoscores, orient=\"index\")\n",
    "palmhomodf['ID'] = palmhomodf.index\n",
    "palmhomodf = palmhomodf.assign(FLGstatus = 2)\n",
    "\n",
    "\n",
    "\n",
    "\n",
    "palmalldf = pd.concat([palmwtdf, palmhetdf, palmhomodf])\n",
    "palmalldf.set_index(['ID'])\n",
    "\n",
    "palmalldf.columns = ['Palmar scores', 'ID', 'FLG status']\n",
    "\n",
    "palmalldf.to_csv(\"palmalldf.csv\")\n",
    "#palmalldf.head()\n",
    "\n",
    "list_palmwtscores = list(palmwtscores.values())\n",
    "list_palmhetscores = list(palmhetscores.values())\n",
    "list_palmhomoscores = list(palmhomoscores.values())\n",
    "pvalues(list_palmwtscores, list_palmhetscores, list_palmhomoscores)\n",
    "\n"
   ]
  },
  {
   "cell_type": "code",
   "execution_count": null,
   "metadata": {
    "scrolled": true
   },
   "outputs": [],
   "source": [
    "\"\"\"\n",
    "P0.02 - figure\n",
    "\"\"\"\n",
    "\n",
    "a = pd.read_csv(\"palmalldf.csv\")\n",
    "ylab = 'Palmar hyperlinearity score'\n",
    "\n",
    "ya=\"Palmar scores\"\n",
    "result01 = \"***\"\n",
    "result12 = \"***\"\n",
    "result02 = \"***\"\n",
    " \n",
    "plotbox(a=a, xa=\"FLG status\", ya=ya, ylabel=ylab, s=3, alpha=0.6)\n",
    "ymax = a[ya].max()\n",
    "addstats(result01, result12, result02, ymax)\n",
    "\n",
    "\n",
    "######add scores\n",
    "y = 17584\n",
    "plt.plot([x1, x1, x2, x2], [y, y+h, y+h, y], lw=0.2, c=col)\n",
    "plt.text((x1+x2)*.5, y+h, result01, ha='center', va='bottom', color=col)\n",
    "\n",
    "y = 18636\n",
    "plt.plot([x1, x1, x2, x2], [y, y+h, y+h, y], lw=0.2, c=col)\n",
    "plt.text((x1+x2)*.5, y+h, result01, ha='center', va='bottom', color=col)\n",
    "\n",
    "y = 33610\n",
    "plt.plot([x1, x1, x2, x2], [y, y+h, y+h, y], lw=0.2, c=col)\n",
    "plt.text((x1+x2)*.5, y+h, result01, ha='center', va='bottom', color=col)\n",
    "\n",
    "\n",
    "#plt.title('Palmar dataset')\n",
    "sns.despine()\n",
    "plt.show()\n",
    "\n"
   ]
  },
  {
   "cell_type": "code",
   "execution_count": null,
   "metadata": {},
   "outputs": [],
   "source": [
    "print(statistics.mean(list_palmwtscores))\n",
    "st_dev = statistics.pstdev(list_palmwtscores)\n",
    "print(\"Standard deviation of the palm wt 0.02: \" + str(st_dev))\n",
    "print(\" \")\n",
    "\n",
    "\n",
    "print(statistics.mean(list_palmhetscores))\n",
    "st_dev = statistics.pstdev(list_palmhetscores)\n",
    "print(\"Standard deviation of the palm -/+ 0.02: \" + str(st_dev))\n",
    "print(\" \")\n",
    "\n",
    "print(statistics.mean(list_palmhomoscores))\n",
    "st_dev = statistics.pstdev(list_palmhomoscores)\n",
    "print(\"Standard deviation of the palm -/- 0.02: \" + str(st_dev))\n",
    "\n"
   ]
  },
  {
   "cell_type": "code",
   "execution_count": null,
   "metadata": {},
   "outputs": [],
   "source": [
    "#"
   ]
  },
  {
   "cell_type": "code",
   "execution_count": null,
   "metadata": {},
   "outputs": [],
   "source": []
  },
  {
   "cell_type": "code",
   "execution_count": 1,
   "metadata": {},
   "outputs": [],
   "source": [
    "#"
   ]
  },
  {
   "cell_type": "code",
   "execution_count": null,
   "metadata": {},
   "outputs": [],
   "source": [
    "\"\"\"\n",
    "END\n",
    "\"\"\"\n",
    " "
   ]
  },
  {
   "cell_type": "code",
   "execution_count": null,
   "metadata": {},
   "outputs": [],
   "source": []
  },
  {
   "cell_type": "code",
   "execution_count": null,
   "metadata": {},
   "outputs": [],
   "source": [
    "#"
   ]
  },
  {
   "cell_type": "code",
   "execution_count": null,
   "metadata": {},
   "outputs": [],
   "source": [
    "#"
   ]
  },
  {
   "cell_type": "code",
   "execution_count": null,
   "metadata": {},
   "outputs": [],
   "source": [
    "#"
   ]
  },
  {
   "cell_type": "code",
   "execution_count": null,
   "metadata": {},
   "outputs": [],
   "source": [
    "#"
   ]
  },
  {
   "cell_type": "code",
   "execution_count": null,
   "metadata": {},
   "outputs": [],
   "source": [
    "#"
   ]
  },
  {
   "cell_type": "code",
   "execution_count": null,
   "metadata": {},
   "outputs": [],
   "source": [
    "#"
   ]
  },
  {
   "cell_type": "code",
   "execution_count": null,
   "metadata": {},
   "outputs": [],
   "source": [
    "#"
   ]
  },
  {
   "cell_type": "code",
   "execution_count": null,
   "metadata": {},
   "outputs": [],
   "source": [
    "#"
   ]
  },
  {
   "cell_type": "code",
   "execution_count": null,
   "metadata": {},
   "outputs": [],
   "source": [
    "#"
   ]
  },
  {
   "cell_type": "code",
   "execution_count": null,
   "metadata": {},
   "outputs": [],
   "source": []
  },
  {
   "cell_type": "code",
   "execution_count": null,
   "metadata": {},
   "outputs": [],
   "source": []
  },
  {
   "cell_type": "code",
   "execution_count": null,
   "metadata": {},
   "outputs": [],
   "source": []
  },
  {
   "cell_type": "code",
   "execution_count": null,
   "metadata": {},
   "outputs": [],
   "source": []
  },
  {
   "cell_type": "code",
   "execution_count": null,
   "metadata": {},
   "outputs": [],
   "source": []
  },
  {
   "cell_type": "code",
   "execution_count": null,
   "metadata": {},
   "outputs": [],
   "source": []
  },
  {
   "cell_type": "code",
   "execution_count": null,
   "metadata": {},
   "outputs": [],
   "source": []
  },
  {
   "cell_type": "code",
   "execution_count": null,
   "metadata": {},
   "outputs": [],
   "source": []
  },
  {
   "cell_type": "code",
   "execution_count": null,
   "metadata": {},
   "outputs": [],
   "source": []
  },
  {
   "cell_type": "code",
   "execution_count": null,
   "metadata": {},
   "outputs": [],
   "source": []
  },
  {
   "cell_type": "code",
   "execution_count": null,
   "metadata": {},
   "outputs": [],
   "source": []
  },
  {
   "cell_type": "code",
   "execution_count": null,
   "metadata": {},
   "outputs": [],
   "source": []
  },
  {
   "cell_type": "code",
   "execution_count": null,
   "metadata": {},
   "outputs": [],
   "source": []
  },
  {
   "cell_type": "code",
   "execution_count": null,
   "metadata": {},
   "outputs": [],
   "source": []
  },
  {
   "cell_type": "code",
   "execution_count": null,
   "metadata": {},
   "outputs": [],
   "source": []
  },
  {
   "cell_type": "code",
   "execution_count": null,
   "metadata": {},
   "outputs": [],
   "source": []
  },
  {
   "cell_type": "code",
   "execution_count": null,
   "metadata": {},
   "outputs": [],
   "source": []
  }
 ],
 "metadata": {
  "kernelspec": {
   "display_name": "Python 3 (ipykernel)",
   "language": "python",
   "name": "python3"
  },
  "language_info": {
   "codemirror_mode": {
    "name": "ipython",
    "version": 3
   },
   "file_extension": ".py",
   "mimetype": "text/x-python",
   "name": "python",
   "nbconvert_exporter": "python",
   "pygments_lexer": "ipython3",
   "version": "3.9.7"
  }
 },
 "nbformat": 4,
 "nbformat_minor": 4
}
